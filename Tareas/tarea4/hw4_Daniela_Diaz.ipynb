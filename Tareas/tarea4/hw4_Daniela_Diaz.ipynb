{
 "cells": [
  {
   "cell_type": "markdown",
   "metadata": {},
   "source": [
    "####  HW4\n",
    "\n",
    "__Daniela Paz Díaz Mora__"
   ]
  },
  {
   "cell_type": "markdown",
   "metadata": {},
   "source": [
    "#### __Problema 4 [25 puntos].__ Consideremos nuevamente el conjunto de datos diag2010.txt (usado en una tarea anterior). Las variables de interés son:\n",
    "\n",
    "-X1 = Puntaje en la PSU parte matemática\n",
    "\n",
    "-X2 = Notas de Enseñanza Media\n",
    "\n",
    "-X3 = Puntaje en la Prueba de Diagnóstico USM"
   ]
  },
  {
   "cell_type": "markdown",
   "metadata": {},
   "source": [
    "#### __a)__ Use análisis discriminante para separar las poblaciones en tres poblaciones. Recuerde que la separación hecha por la USM fue en base al puntaje en la prueba de diagn´ostico solamente (Puntaje > 820, Puntaje entre 620 y 820, Puntaje< 620)."
   ]
  },
  {
   "cell_type": "code",
   "execution_count": 75,
   "metadata": {},
   "outputs": [],
   "source": [
    "import pandas as pd\n",
    "import numpy as np\n",
    "import matplotlib.pyplot as plt"
   ]
  },
  {
   "cell_type": "code",
   "execution_count": 59,
   "metadata": {},
   "outputs": [
    {
     "name": "stderr",
     "output_type": "stream",
     "text": [
      "/home/daniela/miniconda3/envs/mat281/lib/python3.7/site-packages/ipykernel_launcher.py:14: SettingWithCopyWarning: \n",
      "A value is trying to be set on a copy of a slice from a DataFrame.\n",
      "Try using .loc[row_indexer,col_indexer] = value instead\n",
      "\n",
      "See the caveats in the documentation: https://pandas.pydata.org/pandas-docs/stable/user_guide/indexing.html#returning-a-view-versus-a-copy\n",
      "  \n"
     ]
    },
    {
     "data": {
      "text/html": [
       "<div>\n",
       "<style scoped>\n",
       "    .dataframe tbody tr th:only-of-type {\n",
       "        vertical-align: middle;\n",
       "    }\n",
       "\n",
       "    .dataframe tbody tr th {\n",
       "        vertical-align: top;\n",
       "    }\n",
       "\n",
       "    .dataframe thead th {\n",
       "        text-align: right;\n",
       "    }\n",
       "</style>\n",
       "<table border=\"1\" class=\"dataframe\">\n",
       "  <thead>\n",
       "    <tr style=\"text-align: right;\">\n",
       "      <th></th>\n",
       "      <th>Mate</th>\n",
       "      <th>Calculo</th>\n",
       "      <th>NEM</th>\n",
       "    </tr>\n",
       "  </thead>\n",
       "  <tbody>\n",
       "    <tr>\n",
       "      <th>0</th>\n",
       "      <td>678.0</td>\n",
       "      <td>731</td>\n",
       "      <td>620.0</td>\n",
       "    </tr>\n",
       "    <tr>\n",
       "      <th>1</th>\n",
       "      <td>756.0</td>\n",
       "      <td>762</td>\n",
       "      <td>496.0</td>\n",
       "    </tr>\n",
       "    <tr>\n",
       "      <th>2</th>\n",
       "      <td>718.0</td>\n",
       "      <td>712</td>\n",
       "      <td>682.0</td>\n",
       "    </tr>\n",
       "    <tr>\n",
       "      <th>3</th>\n",
       "      <td>682.0</td>\n",
       "      <td>683</td>\n",
       "      <td>723.0</td>\n",
       "    </tr>\n",
       "    <tr>\n",
       "      <th>4</th>\n",
       "      <td>682.0</td>\n",
       "      <td>769</td>\n",
       "      <td>723.0</td>\n",
       "    </tr>\n",
       "    <tr>\n",
       "      <th>...</th>\n",
       "      <td>...</td>\n",
       "      <td>...</td>\n",
       "      <td>...</td>\n",
       "    </tr>\n",
       "    <tr>\n",
       "      <th>2176</th>\n",
       "      <td>774.0</td>\n",
       "      <td>740</td>\n",
       "      <td>599.0</td>\n",
       "    </tr>\n",
       "    <tr>\n",
       "      <th>2177</th>\n",
       "      <td>701.0</td>\n",
       "      <td>674</td>\n",
       "      <td>702.0</td>\n",
       "    </tr>\n",
       "    <tr>\n",
       "      <th>2178</th>\n",
       "      <td>648.0</td>\n",
       "      <td>660</td>\n",
       "      <td>682.0</td>\n",
       "    </tr>\n",
       "    <tr>\n",
       "      <th>2179</th>\n",
       "      <td>706.0</td>\n",
       "      <td>631</td>\n",
       "      <td>599.0</td>\n",
       "    </tr>\n",
       "    <tr>\n",
       "      <th>2180</th>\n",
       "      <td>774.0</td>\n",
       "      <td>724</td>\n",
       "      <td>558.0</td>\n",
       "    </tr>\n",
       "  </tbody>\n",
       "</table>\n",
       "<p>2119 rows × 3 columns</p>\n",
       "</div>"
      ],
      "text/plain": [
       "       Mate  Calculo    NEM\n",
       "0     678.0      731  620.0\n",
       "1     756.0      762  496.0\n",
       "2     718.0      712  682.0\n",
       "3     682.0      683  723.0\n",
       "4     682.0      769  723.0\n",
       "...     ...      ...    ...\n",
       "2176  774.0      740  599.0\n",
       "2177  701.0      674  702.0\n",
       "2178  648.0      660  682.0\n",
       "2179  706.0      631  599.0\n",
       "2180  774.0      724  558.0\n",
       "\n",
       "[2119 rows x 3 columns]"
      ]
     },
     "execution_count": 59,
     "metadata": {},
     "output_type": "execute_result"
    }
   ],
   "source": [
    "data=pd.read_csv('diag2010.txt', sep = \"\\t\")\n",
    "data.columns=['PSU', 'LC', 'Mate', 'NEM','OC','OH', 'Buenas', 'Malas', 'Omitidas',\n",
    "       'Nota', 'Calculo', 'R1', 'R2', 'R3', 'R4']\n",
    "X=data[['Mate','Calculo','NEM']]\n",
    "X=X.dropna()\n",
    "def poblacion(x):\n",
    "    if x>820:\n",
    "        return 1\n",
    "    elif x>=620:\n",
    "        return 2\n",
    "    else: \n",
    "        return 3\n",
    "y=X[['Calculo']]\n",
    "y['Pob']=y['Calculo'].apply(poblacion)\n",
    "y=y.drop(['Calculo'],axis=1)\n",
    "X"
   ]
  },
  {
   "cell_type": "code",
   "execution_count": 57,
   "metadata": {},
   "outputs": [
    {
     "name": "stderr",
     "output_type": "stream",
     "text": [
      "/home/daniela/miniconda3/envs/mat281/lib/python3.7/site-packages/sklearn/utils/validation.py:72: DataConversionWarning: A column-vector y was passed when a 1d array was expected. Please change the shape of y to (n_samples, ), for example using ravel().\n",
      "  return f(**kwargs)\n"
     ]
    },
    {
     "data": {
      "text/plain": [
       "LinearDiscriminantAnalysis()"
      ]
     },
     "execution_count": 57,
     "metadata": {},
     "output_type": "execute_result"
    }
   ],
   "source": [
    "from sklearn.model_selection import train_test_split\n",
    "from sklearn.discriminant_analysis import LinearDiscriminantAnalysis\n",
    "\n",
    "\n",
    "X_train, X_test, y_train, y_test = train_test_split(X, y, test_size=0.2, random_state=42)\n",
    "\n",
    "model= LinearDiscriminantAnalysis()\n",
    "model.fit(X_train, y_train)"
   ]
  },
  {
   "cell_type": "markdown",
   "metadata": {},
   "source": [
    "#### __b)__ Muestre un diagrama de dispersion para las dos primeras funciones discriminantes para observar visualmente si existe separacion entre los grupos de variables."
   ]
  },
  {
   "cell_type": "code",
   "execution_count": 61,
   "metadata": {},
   "outputs": [
    {
     "data": {
      "text/html": [
       "<div>\n",
       "<style scoped>\n",
       "    .dataframe tbody tr th:only-of-type {\n",
       "        vertical-align: middle;\n",
       "    }\n",
       "\n",
       "    .dataframe tbody tr th {\n",
       "        vertical-align: top;\n",
       "    }\n",
       "\n",
       "    .dataframe thead th {\n",
       "        text-align: right;\n",
       "    }\n",
       "</style>\n",
       "<table border=\"1\" class=\"dataframe\">\n",
       "  <thead>\n",
       "    <tr style=\"text-align: right;\">\n",
       "      <th></th>\n",
       "      <th>Mate</th>\n",
       "      <th>Calculo</th>\n",
       "      <th>NEM</th>\n",
       "      <th>pob_pred</th>\n",
       "    </tr>\n",
       "  </thead>\n",
       "  <tbody>\n",
       "    <tr>\n",
       "      <th>1877</th>\n",
       "      <td>701.0</td>\n",
       "      <td>759</td>\n",
       "      <td>579.0</td>\n",
       "      <td>2</td>\n",
       "    </tr>\n",
       "    <tr>\n",
       "      <th>410</th>\n",
       "      <td>706.0</td>\n",
       "      <td>719</td>\n",
       "      <td>620.0</td>\n",
       "      <td>2</td>\n",
       "    </tr>\n",
       "    <tr>\n",
       "      <th>785</th>\n",
       "      <td>718.0</td>\n",
       "      <td>788</td>\n",
       "      <td>579.0</td>\n",
       "      <td>2</td>\n",
       "    </tr>\n",
       "    <tr>\n",
       "      <th>714</th>\n",
       "      <td>812.0</td>\n",
       "      <td>816</td>\n",
       "      <td>599.0</td>\n",
       "      <td>2</td>\n",
       "    </tr>\n",
       "    <tr>\n",
       "      <th>1744</th>\n",
       "      <td>640.0</td>\n",
       "      <td>655</td>\n",
       "      <td>579.0</td>\n",
       "      <td>2</td>\n",
       "    </tr>\n",
       "    <tr>\n",
       "      <th>...</th>\n",
       "      <td>...</td>\n",
       "      <td>...</td>\n",
       "      <td>...</td>\n",
       "      <td>...</td>\n",
       "    </tr>\n",
       "    <tr>\n",
       "      <th>218</th>\n",
       "      <td>774.0</td>\n",
       "      <td>660</td>\n",
       "      <td>558.0</td>\n",
       "      <td>2</td>\n",
       "    </tr>\n",
       "    <tr>\n",
       "      <th>2153</th>\n",
       "      <td>678.0</td>\n",
       "      <td>612</td>\n",
       "      <td>702.0</td>\n",
       "      <td>3</td>\n",
       "    </tr>\n",
       "    <tr>\n",
       "      <th>2146</th>\n",
       "      <td>637.0</td>\n",
       "      <td>586</td>\n",
       "      <td>682.0</td>\n",
       "      <td>3</td>\n",
       "    </tr>\n",
       "    <tr>\n",
       "      <th>352</th>\n",
       "      <td>688.0</td>\n",
       "      <td>674</td>\n",
       "      <td>620.0</td>\n",
       "      <td>2</td>\n",
       "    </tr>\n",
       "    <tr>\n",
       "      <th>1869</th>\n",
       "      <td>774.0</td>\n",
       "      <td>652</td>\n",
       "      <td>702.0</td>\n",
       "      <td>2</td>\n",
       "    </tr>\n",
       "  </tbody>\n",
       "</table>\n",
       "<p>424 rows × 4 columns</p>\n",
       "</div>"
      ],
      "text/plain": [
       "       Mate  Calculo    NEM  pob_pred\n",
       "1877  701.0      759  579.0         2\n",
       "410   706.0      719  620.0         2\n",
       "785   718.0      788  579.0         2\n",
       "714   812.0      816  599.0         2\n",
       "1744  640.0      655  579.0         2\n",
       "...     ...      ...    ...       ...\n",
       "218   774.0      660  558.0         2\n",
       "2153  678.0      612  702.0         3\n",
       "2146  637.0      586  682.0         3\n",
       "352   688.0      674  620.0         2\n",
       "1869  774.0      652  702.0         2\n",
       "\n",
       "[424 rows x 4 columns]"
      ]
     },
     "execution_count": 61,
     "metadata": {},
     "output_type": "execute_result"
    }
   ],
   "source": [
    "test = pd.DataFrame(data = X_test, columns = ['Mate', 'Calculo', 'NEM'] )\n",
    "test['pob_pred']=model.predict(X_test)\n",
    "test"
   ]
  },
  {
   "cell_type": "code",
   "execution_count": 88,
   "metadata": {},
   "outputs": [
    {
     "data": {
      "image/png": "[encoded data removed]",
      "text/plain": [
       "<Figure size 432x288 with 1 Axes>"
      ]
     },
     "metadata": {
      "needs_background": "light"
     },
     "output_type": "display_data"
    }
   ],
   "source": [
    "group=df.groupby(test.pob_pred)\n",
    "df1=group.get_group(1)\n",
    "df2=group.get_group(2)\n",
    "df3=group.get_group(3)\n",
    "\n",
    "plt.scatter(df1['Mate'],df1['Calculo'],label='1 group',c='r',alpha=0.5)\n",
    "plt.scatter(df2['Mate'],df2['Calculo'],label='2 group',c='g',alpha=0.5)\n",
    "plt.scatter(df3['Mate'],df3['Calculo'],label='3 group',c='m',alpha=0.5)\n",
    "plt.legend()\n",
    "plt.xlabel('Mate')\n",
    "plt.ylabel('Calculo')\n",
    "plt.show()"
   ]
  },
  {
   "cell_type": "markdown",
   "metadata": {},
   "source": [
    "#### __c)__ Un estudiante que ingreso por ingresos especiales tiene los siguientes puntajes $$X=(615,5.3,600)$$ ¿En qué categoría lo ubicaría usted?"
   ]
  },
  {
   "cell_type": "code",
   "execution_count": 91,
   "metadata": {},
   "outputs": [
    {
     "data": {
      "text/plain": [
       "array([3])"
      ]
     },
     "execution_count": 91,
     "metadata": {},
     "output_type": "execute_result"
    }
   ],
   "source": [
    "model.predict([[615,600,470.3]])"
   ]
  },
  {
   "cell_type": "markdown",
   "metadata": {},
   "source": [
    "Se tiene que 5.3 equivale a 470.3 puntos NEM, nuestro modelo nos dice que lo pongamos en las categoria 3 Puntaje<620"
   ]
  }
 ],
 "metadata": {
  "kernelspec": {
   "display_name": "Python 3",
   "language": "python",
   "name": "python3"
  },
  "language_info": {
   "codemirror_mode": {
    "name": "ipython",
    "version": 3
   },
   "file_extension": ".py",
   "mimetype": "text/x-python",
   "name": "python",
   "nbconvert_exporter": "python",
   "pygments_lexer": "ipython3",
   "version": "3.7.9"
  }
 },
 "nbformat": 4,
 "nbformat_minor": 4
}
