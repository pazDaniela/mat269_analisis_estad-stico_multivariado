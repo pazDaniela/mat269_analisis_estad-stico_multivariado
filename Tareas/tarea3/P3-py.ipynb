{
 "cells": [
  {
   "cell_type": "markdown",
   "metadata": {},
   "source": [
    "## __Problema 3 (30 pts)__\n",
    "\n",
    "La amitriptina es recetada por algunos médicos como un antidepresivo. Existen algunos efectos secundarios de esta droga como: pulsaciones cardiacas irregulares, presión arterial anormal, entre otras. Un conjunto de datos de 17 pacientes a los cuales se les administró esta droga fue recolectado en un estudio. \n",
    "\n",
    "Las variables respuestas fueron las siguientes:\n",
    "\n",
    "$Y_1$ = Nivel de plasma Total\n",
    "\n",
    "$Y_2$ = Cantidad de amitriptina presente en el plasma\n",
    "\n",
    "Se midieron cinco variables prediuctoras\n",
    "\n",
    "$Z_1$ = Género (1 Female, 0 Male) (GEN)\n",
    "\n",
    "$Z_2$ = Cantidad de antidepresivo ingerido (AMT)\n",
    "\n",
    "$Z_3$ = Medición de la onda cardiaca (PR)\n",
    "\n",
    "$Z_4$ = Presión diastólica (DIAP)\n",
    "\n",
    "$Z_5$ = Medida de onda cardiaca (QRS)"
   ]
  },
  {
   "cell_type": "code",
   "execution_count": 1,
   "metadata": {},
   "outputs": [],
   "source": [
    "import numpy as np\n",
    "import pandas as pd\n",
    "import altair as alt\n",
    "from sklearn.linear_model import LinearRegression"
   ]
  },
  {
   "cell_type": "code",
   "execution_count": 2,
   "metadata": {},
   "outputs": [],
   "source": [
    "y_1 = np.array([3389, 1101, 1131, 596, 896, 1767, 807, 1111, 645, 628, 1360, 652, 860, 500, 781, 1070, 1754])\n",
    "y_2 = np.array([3149, 653, 810, 448, 844, 1450, 493, 941, 547, 392, 1283, 458, 722, 384, 501, 405, 1520])\n",
    "\n",
    "z_1 = np.array([1 ,1 ,0 ,1 ,1 ,1 ,1 ,0 ,1 ,1 ,1 ,1 ,1 ,0 ,0 ,0 ,1])\n",
    "z_2 = np.array([7500, 1975, 3600, 675, 750, 2500, 350, 1500, 375, 1050, 3000, 450, 1750, 2000, 4500, 1500, 3000])\n",
    "z_3 = np.array([220, 200, 205, 160, 185, 180, 154, 200, 137, 167, 180, 160, 135, 160, 180, 170, 180])\n",
    "z_4 = np.array([0,  0,  60,  60,  70,  60,  80,  70,  60,  60,  60,  64,  90,  60,  0,  90,  0])\n",
    "z_5 = np.array([140,  100,  111,  120,  83,  80,  98,  93,  105,  74,  80,  60,  79,  80,  100,  120,  129])"
   ]
  },
  {
   "cell_type": "code",
   "execution_count": 3,
   "metadata": {},
   "outputs": [],
   "source": [
    "Z = np.array([z_1,z_2,z_3,z_4,z_5]).T\n",
    "Y = np.array([y_1, y_2]).T"
   ]
  },
  {
   "cell_type": "markdown",
   "metadata": {},
   "source": [
    "#### __a)__ Escriba un modelo de regresión con respuesta multivariada para abordar este problema."
   ]
  },
  {
   "cell_type": "code",
   "execution_count": 4,
   "metadata": {},
   "outputs": [],
   "source": [
    "reg = LinearRegression().fit(Z,Y)"
   ]
  },
  {
   "cell_type": "code",
   "execution_count": 5,
   "metadata": {},
   "outputs": [
    {
     "data": {
      "text/plain": [
       "array([[6.75650781e+02, 2.84851063e-01, 1.02721328e+01, 7.25117136e+00,\n",
       "        7.59823965e+00],\n",
       "       [7.63029762e+02, 3.06373400e-01, 8.89619768e+00, 7.20555972e+00,\n",
       "        4.98705075e+00]])"
      ]
     },
     "execution_count": 5,
     "metadata": {},
     "output_type": "execute_result"
    }
   ],
   "source": [
    "reg.coef_"
   ]
  },
  {
   "cell_type": "code",
   "execution_count": 6,
   "metadata": {},
   "outputs": [
    {
     "data": {
      "text/plain": [
       "array([-2879.47824607, -2728.70854444])"
      ]
     },
     "execution_count": 6,
     "metadata": {},
     "output_type": "execute_result"
    }
   ],
   "source": [
    "reg.intercept_"
   ]
  },
  {
   "cell_type": "markdown",
   "metadata": {},
   "source": [
    "#### __b)__ Determine los estimadores de m´ınimos cuadrados, valores ajustados y residuos usando los valores de la tabla con las observaciones. "
   ]
  },
  {
   "cell_type": "markdown",
   "metadata": {},
   "source": [
    "Luego $\\pmb{\\beta}$ es"
   ]
  },
  {
   "cell_type": "code",
   "execution_count": 7,
   "metadata": {},
   "outputs": [],
   "source": [
    "beta=np.array([[-2879.47824607,6.75650781e+02, 2.84851063e-01, 1.02721328e+01, 7.25117136e+00,\n",
    "        7.59823965e+00],[-2728.70854444,7.63029762e+02, 3.06373400e-01, 8.89619768e+00, 7.20555972e+00,\n",
    "        4.98705075e+00]]).T"
   ]
  },
  {
   "cell_type": "code",
   "execution_count": 8,
   "metadata": {},
   "outputs": [
    {
     "data": {
      "text/plain": [
       "array([[   1, 7500,  220,    0,  140],\n",
       "       [   1, 1975,  200,    0,  100],\n",
       "       [   0, 3600,  205,   60,  111],\n",
       "       [   1,  675,  160,   60,  120],\n",
       "       [   1,  750,  185,   70,   83],\n",
       "       [   1, 2500,  180,   60,   80],\n",
       "       [   1,  350,  154,   80,   98],\n",
       "       [   0, 1500,  200,   70,   93],\n",
       "       [   1,  375,  137,   60,  105],\n",
       "       [   1, 1050,  167,   60,   74],\n",
       "       [   1, 3000,  180,   60,   80],\n",
       "       [   1,  450,  160,   64,   60],\n",
       "       [   1, 1750,  135,   90,   79],\n",
       "       [   0, 2000,  160,   60,   80],\n",
       "       [   0, 4500,  180,    0,  100],\n",
       "       [   0, 1500,  170,   90,  120],\n",
       "       [   1, 3000,  180,    0,  129]])"
      ]
     },
     "execution_count": 8,
     "metadata": {},
     "output_type": "execute_result"
    }
   ],
   "source": [
    "Z\n"
   ]
  },
  {
   "cell_type": "code",
   "execution_count": 9,
   "metadata": {},
   "outputs": [
    {
     "data": {
      "text/plain": [
       "array([[-2.87947825e+03, -2.72870854e+03],\n",
       "       [ 6.75650781e+02,  7.63029762e+02],\n",
       "       [ 2.84851063e-01,  3.06373400e-01],\n",
       "       [ 1.02721328e+01,  8.89619768e+00],\n",
       "       [ 7.25117136e+00,  7.20555972e+00],\n",
       "       [ 7.59823965e+00,  4.98705075e+00]])"
      ]
     },
     "execution_count": 9,
     "metadata": {},
     "output_type": "execute_result"
    }
   ],
   "source": [
    "beta"
   ]
  },
  {
   "cell_type": "markdown",
   "metadata": {},
   "source": [
    "$$\\hat{\\pmb{\\beta}}= \\begin{pmatrix} -2879.47825 & -2728.70854 \\\\ \n",
    " 675.650781 &  763.029762\\\\\n",
    " 0.284851063 &  0.306373400\\\\\n",
    "10.2721328 &  8.89619768 \\\\\n",
    "7.25117136 &  7.20555972\\\\\n",
    "7.59823965&  4.98705075\\end{pmatrix}$$"
   ]
  },
  {
   "cell_type": "code",
   "execution_count": 10,
   "metadata": {},
   "outputs": [],
   "source": [
    "z_0 = np.ones(17)\n",
    "Z=np.array([z_0,z_1,z_2,z_3,z_4,z_5]).T"
   ]
  },
  {
   "cell_type": "code",
   "execution_count": 11,
   "metadata": {},
   "outputs": [
    {
     "data": {
      "text/plain": [
       "array([[51176.95944034, 45039.79270646],\n",
       "       [45039.79270646, 55335.81761062]])"
      ]
     },
     "execution_count": 11,
     "metadata": {},
     "output_type": "execute_result"
    }
   ],
   "source": [
    "aux=Y-np.dot(Z,beta)\n",
    "sigma = 1/17*np.dot(aux.T,aux)\n",
    "sigma"
   ]
  },
  {
   "cell_type": "markdown",
   "metadata": {},
   "source": [
    "$$\\hat{\\pmb{\\Sigma}}=\\begin{pmatrix}51176.95944034& 45039.79270646 \\\\45039.79270646& 55335.81761062 \\end{pmatrix}$$"
   ]
  },
  {
   "cell_type": "code",
   "execution_count": 12,
   "metadata": {},
   "outputs": [
    {
     "data": {
      "text/plain": [
       "array([[3256.17827443, 1173.00390936, 1530.24768748,  978.84729006,\n",
       "        1048.39128633, 1400.21355003,  802.50005268,  816.44319108,\n",
       "         543.15932201,  808.05234438, 1542.63908153,  487.86610732,\n",
       "         934.26617793,  376.69458153, 1011.15940643,  858.45510483,\n",
       "        1479.88254278],\n",
       "       [2987.47231216,  917.35329356, 1183.85243641,  695.29456456,\n",
       "         828.21223101, 1232.86794316,  576.74210138,  478.27599171,\n",
       "         323.96423667,  643.05363882, 1386.05464316,  355.95974344,\n",
       "         813.93873841,  138.72752756,  749.99241296,  490.15162596,\n",
       "        1198.08654671]])"
      ]
     },
     "execution_count": 12,
     "metadata": {},
     "output_type": "execute_result"
    }
   ],
   "source": [
    "Yh=np.dot(Z,beta)\n",
    "Yh.T"
   ]
  },
  {
   "cell_type": "markdown",
   "metadata": {},
   "source": [
    "$$\\hat{\\pmb{Y}}^T=\\begin{pmatrix}3256.17827443& 1173.00390936& 1530.24768748&  978.84729006&\n",
    "        1048.39128633& 1400.21355003&  802.50005268&  816.44319108&\n",
    "         543.15932201&  808.05234438& 1542.63908153&  487.86610732&\n",
    "         934.26617793&  376.69458153& 1011.15940643&  858.45510483&\n",
    "        1479.88254278 \\\\ 2987.47231216&  917.35329356& 1183.85243641&  695.29456456&\n",
    "         828.21223101& 1232.86794316&  576.74210138&  478.27599171&\n",
    "         323.96423667&  643.05363882& 1386.05464316&  355.95974344&\n",
    "         813.93873841&  138.72752756&  749.99241296&  490.15162596&\n",
    "        1198.08654671\\end{pmatrix}$$"
   ]
  },
  {
   "cell_type": "code",
   "execution_count": 13,
   "metadata": {},
   "outputs": [
    {
     "data": {
      "text/plain": [
       "array([[ 132.82172557,  -72.00390936, -399.24768748, -382.84729006,\n",
       "        -152.39128633,  366.78644997,    4.49994732,  294.55680892,\n",
       "         101.84067799, -180.05234438, -182.63908153,  164.13389268,\n",
       "         -74.26617793,  123.30541847, -230.15940643,  211.54489517,\n",
       "         274.11745722],\n",
       "       [ 161.52768784, -264.35329356, -373.85243641, -247.29456456,\n",
       "          15.78776899,  217.13205684,  -83.74210138,  462.72400829,\n",
       "         223.03576333, -251.05363882, -103.05464316,  102.04025656,\n",
       "         -91.93873841,  245.27247244, -248.99241296,  -85.15162596,\n",
       "         321.91345329]])"
      ]
     },
     "execution_count": 13,
     "metadata": {},
     "output_type": "execute_result"
    }
   ],
   "source": [
    "epsh=Y-Yh\n",
    "epsh.T"
   ]
  },
  {
   "cell_type": "markdown",
   "metadata": {},
   "source": [
    "$$\\hat{\\pmb{\\epsilon}}=\\begin{pmatrix} 132.82172557,  161.52768784 \\\\ \n",
    "132.82172557,  161.52768784\\\\\n",
    "-399.24768748, -373.85243641\\\\\n",
    "-382.84729006, -247.29456456\\\\\n",
    "-152.39128633,   15.78776899\\\\\n",
    "366.78644997,  217.13205684\\\\\n",
    "4.49994732,  -83.74210138\\\\\n",
    "294.55680892,  462.72400829\\\\\n",
    "101.84067799,  223.03576333\\\\\n",
    "-180.05234438, -251.05363882\\\\\n",
    "-182.63908153, -103.05464316\\\\\n",
    " 164.13389268,  102.04025656\\\\\n",
    " -74.26617793,  -91.93873841\\\\\n",
    " 123.30541847,  245.27247244\\\\\n",
    " -230.15940643, -248.99241296\\\\\n",
    "211.54489517,  -85.15162596\\\\\n",
    "274.11745722,  321.91345329\\end{pmatrix}$$"
   ]
  },
  {
   "cell_type": "markdown",
   "metadata": {},
   "source": [
    "#### __c)__ Realice un análisis de residuos"
   ]
  },
  {
   "cell_type": "markdown",
   "metadata": {},
   "source": [
    "#### __d)__ Construya una región de confianza del 95% para ambas variables respuestas para $z_1=1,z_2=1200,z_3=1400,z_4=70,z_5=85$"
   ]
  },
  {
   "cell_type": "markdown",
   "metadata": {},
   "source": [
    "Definiendo $z_0^T=(1,1,1200,1400,70,85)$\n",
    "\n",
    "Se tiene que la región vendra dada por $$z_0^T\\hat{\\pmb{\\beta_{(i)}}}\\pm \\sqrt{\\left[\\frac{m(n-r-1)}{n-r-m}F_{(m,n-r-m)}\\right]}\\sqrt{z_0^T(Z^TZ)^{-1}z_0\\left(\\frac{n}{n-r-1}\\hat{\\sigma}_{ii}\\right)}$$\n",
    "\n",
    "Notando que $n=17,r=5,m=2$\n",
    "\n",
    "para $i=1$\n",
    "\n",
    "\n"
   ]
  },
  {
   "cell_type": "code",
   "execution_count": 14,
   "metadata": {},
   "outputs": [
    {
     "data": {
      "text/plain": [
       "350.18992408496064"
      ]
     },
     "execution_count": 14,
     "metadata": {},
     "output_type": "execute_result"
    }
   ],
   "source": [
    "\n",
    "aux2=np.linalg.inv(np.dot(Z.T,Z))\n",
    "z=np.array([1,1,1200,1400,70,85])\n",
    "np.dot(np.dot(z.T,aux2),z)"
   ]
  },
  {
   "cell_type": "code",
   "execution_count": 15,
   "metadata": {},
   "outputs": [
    {
     "data": {
      "text/plain": [
       "13672.41209598"
      ]
     },
     "execution_count": 15,
     "metadata": {},
     "output_type": "execute_result"
    }
   ],
   "source": [
    "np.dot(z.T,beta.T[0].T)"
   ]
  },
  {
   "cell_type": "markdown",
   "metadata": {},
   "source": [
    "$$\n",
    "\\begin{aligned}\n",
    "13672.41\\pm \\sqrt{\\frac{2\\cdot 11}{10}F_{(2,14)}}\\sqrt{350.19\\frac{17}{10}51176.96}\n",
    "\\end{aligned}$$\n",
    "\n",
    "$$\n",
    "\\begin{aligned}\n",
    "13672.41\\pm \\sqrt{\\frac{2\\cdot11}{10}3.739}\\sqrt{350.19\\frac{17}{10}51176.96}\n",
    "\\end{aligned}$$"
   ]
  },
  {
   "cell_type": "code",
   "execution_count": 16,
   "metadata": {},
   "outputs": [
    {
     "data": {
      "text/plain": [
       "11784.93454371"
      ]
     },
     "execution_count": 16,
     "metadata": {},
     "output_type": "execute_result"
    }
   ],
   "source": [
    "np.dot(z.T,beta.T[1].T)"
   ]
  },
  {
   "cell_type": "markdown",
   "metadata": {},
   "source": [
    "para i=2\n",
    "$$\n",
    "\\begin{aligned}\n",
    "11784.93\\pm \\sqrt{\\frac{2\\cdot 11}{10}F_{(2,14)}}\\sqrt{350.19\\frac{17}{14}55335.81}\n",
    "\\end{aligned}$$\n",
    "\n",
    "$$\n",
    "\\begin{aligned}\n",
    "11784.93\\pm \\sqrt{\\frac{2\\cdot11}{10}3.739}\\sqrt{350.19\\frac{17}{10}55335.81}\n",
    "\\end{aligned}$$"
   ]
  }
 ],
 "metadata": {
  "kernelspec": {
   "display_name": "Python 3",
   "language": "python",
   "name": "python3"
  },
  "language_info": {
   "codemirror_mode": {
    "name": "ipython",
    "version": 3
   },
   "file_extension": ".py",
   "mimetype": "text/x-python",
   "name": "python",
   "nbconvert_exporter": "python",
   "pygments_lexer": "ipython3",
   "version": "3.7.9"
  }
 },
 "nbformat": 4,
 "nbformat_minor": 4
}
