{
 "cells": [
  {
   "cell_type": "markdown",
   "metadata": {},
   "source": [
    "## __Problema 3 (30 pts)__\n",
    "\n",
    "La amitriptina es recetada por algunos médicos como un antidepresivo. Existen algunos efectos secundarios de esta droga como: pulsaciones cardiacas irregulares, presión arterial anormal, entre otras. Un conjunto de datos de 17 pacientes a los cuales se les administró esta droga fue recolectado en un estudio. \n",
    "\n",
    "Las variables respuestas fueron las siguientes:\n",
    "\n",
    "$Y_1$ = Nivel de plasma Total\n",
    "\n",
    "$Y_2$ = Cantidad de amitriptina presente en el plasma\n",
    "\n",
    "Se midieron cinco variables prediuctoras\n",
    "\n",
    "$Z_1$ = Género (1 Female, 0 Male) (GEN)\n",
    "\n",
    "$Z_2$ = Cantidad de antidepresivo ingerido (AMT)\n",
    "\n",
    "$Z_3$ = Medición de la onda cardiaca (PR)\n",
    "\n",
    "$Z_4$ = Presión diastólica (DIAP)\n",
    "\n",
    "$Z_5$ = Medida de onda cardiaca (QRS)"
   ]
  },
  {
   "cell_type": "markdown",
   "metadata": {},
   "source": [
    "#### __c)__ Realice un análisis de residuos"
   ]
  },
  {
   "cell_type": "code",
   "execution_count": 25,
   "metadata": {},
   "outputs": [],
   "source": [
    "chisplot <- function(x) {\n",
    "if (!is.matrix(x)) stop(\"x is not a matrix\")\n",
    "    ### determine dimensions\n",
    "    n <- nrow(x)\n",
    "    p <- ncol(x)\n",
    "    #\n",
    "    xbar <- apply(x, 2, mean)\n",
    "    S <- var(x)\n",
    "    S <- solve(S)\n",
    "    index <- (1:n)/(n+1)\n",
    "    #\n",
    "    xcent <- t(t(x) - xbar)\n",
    "    di <- apply(xcent, 1, function(x,S) x %*% S %*% x,S)\n",
    "    #\n",
    "    quant <- qchisq(index,p)\n",
    "    #print(quant)\n",
    "    #print(di)\n",
    "    plot(quant, sort(di), ylab = \"Ordered distances\",\n",
    "    xlab = \"Chi-square quantile\", lwd=2,pch=1)\n",
    "}"
   ]
  },
  {
   "cell_type": "code",
   "execution_count": 26,
   "metadata": {},
   "outputs": [],
   "source": [
    "e1<-c(132.82172557,  -72.00390936, -399.24768748, -382.84729006,152.39128633,  366.78644997,    4.49994732,  294.55680892,101.84067799, -180.05234438, -182.63908153,  164.13389268,-74.26617793,  123.30541847, -230.15940643,  211.54489517,274.11745722)\n",
    "e2<-c(161.52768784, -264.35329356, -373.85243641, -247.29456456, 15.78776899,  217.13205684,  -83.74210138,  462.72400829,223.03576333, -251.05363882, -103.05464316,  102.04025656,-91.93873841,  245.27247244, -248.99241296,  -85.15162596,321.91345329)\n",
    "data<-cbind(e1,e2)"
   ]
  },
  {
   "cell_type": "code",
   "execution_count": 29,
   "metadata": {},
   "outputs": [
    {
     "data": {
      "image/png": "[encoded data removed]",
      "text/plain": [
       "plot without title"
      ]
     },
     "metadata": {
      "image/png": {
       "height": 420,
       "width": 420
      },
      "text/plain": {
       "height": 420,
       "width": 420
      }
     },
     "output_type": "display_data"
    }
   ],
   "source": [
    "chisplot(data)"
   ]
  },
  {
   "cell_type": "markdown",
   "metadata": {},
   "source": [
    "Por lo tanto se concluye que los errores distribuen Normal"
   ]
  }
 ],
 "metadata": {
  "kernelspec": {
   "display_name": "R",
   "language": "R",
   "name": "ir"
  },
  "language_info": {
   "codemirror_mode": "r",
   "file_extension": ".r",
   "mimetype": "text/x-r-source",
   "name": "R",
   "pygments_lexer": "r",
   "version": "3.6.3"
  }
 },
 "nbformat": 4,
 "nbformat_minor": 4
}
