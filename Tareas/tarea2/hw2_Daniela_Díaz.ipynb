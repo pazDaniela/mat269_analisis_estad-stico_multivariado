{
 "cells": [
  {
   "cell_type": "markdown",
   "metadata": {},
   "source": [
    "## __Tarea 1__\n",
    "\n",
    "### Daniela Díaz Mora\n",
    "#### 201710003-6"
   ]
  },
  {
   "cell_type": "markdown",
   "metadata": {},
   "source": [
    "El instrumento consiste en 40 preguntas clasificadas en 4 categor´ıas. Estas categor´ıas tienen relaci´on con los 4 cursos remediales que se ofrece a aquellos estudiantes que obtienen un puntaje menor a 620 puntos. El porcentaje de respuestas\n",
    "acertadas en cada categor´ıa se encuentra en la base de datos con los nombres R1,\n",
    "R2, R3 y R4. ¿Es razonable asumir una distribuci´on normal multivariada para\n",
    "modelar las variables R1, R2, R3 y R4?##### __Problema 1__\n",
    "\n",
    "Considere el conjunto de datos diag2010.txt. En este problema se analizará las variables Mate:Puntaje en la parte matemática de la PSU de los alumnos de primer año de la USM, y la variable Calculo: puntaje en la prueba de diagnóstico aplicada a los estudiantes de primer año en la USM el año 2010."
   ]
  },
  {
   "cell_type": "code",
   "execution_count": 1,
   "metadata": {},
   "outputs": [],
   "source": [
    "import pandas as pd\n",
    "import numpy as np\n"
   ]
  },
  {
   "cell_type": "code",
   "execution_count": 2,
   "metadata": {},
   "outputs": [],
   "source": [
    "data=pd.read_csv('diag2010.txt', sep = \"\\t\")"
   ]
  },
  {
   "cell_type": "code",
   "execution_count": 3,
   "metadata": {},
   "outputs": [
    {
     "data": {
      "text/html": [
       "<div>\n",
       "<style scoped>\n",
       "    .dataframe tbody tr th:only-of-type {\n",
       "        vertical-align: middle;\n",
       "    }\n",
       "\n",
       "    .dataframe tbody tr th {\n",
       "        vertical-align: top;\n",
       "    }\n",
       "\n",
       "    .dataframe thead th {\n",
       "        text-align: right;\n",
       "    }\n",
       "</style>\n",
       "<table border=\"1\" class=\"dataframe\">\n",
       "  <thead>\n",
       "    <tr style=\"text-align: right;\">\n",
       "      <th></th>\n",
       "      <th>PSU</th>\n",
       "      <th>LC</th>\n",
       "      <th>Mate</th>\n",
       "      <th>NEM</th>\n",
       "      <th>OC</th>\n",
       "      <th>OH</th>\n",
       "      <th>Buenas</th>\n",
       "      <th>Malas</th>\n",
       "      <th>Omitidas</th>\n",
       "      <th>Nota</th>\n",
       "      <th>Calculo</th>\n",
       "      <th>R1</th>\n",
       "      <th>R2</th>\n",
       "      <th>R3</th>\n",
       "      <th>R4</th>\n",
       "    </tr>\n",
       "  </thead>\n",
       "  <tbody>\n",
       "    <tr>\n",
       "      <th>0</th>\n",
       "      <td>669.80</td>\n",
       "      <td>710</td>\n",
       "      <td>678.0</td>\n",
       "      <td>620.0</td>\n",
       "      <td>677.0</td>\n",
       "      <td>0.0</td>\n",
       "      <td>29</td>\n",
       "      <td>6</td>\n",
       "      <td>5</td>\n",
       "      <td>731</td>\n",
       "      <td>731</td>\n",
       "      <td>69.2</td>\n",
       "      <td>92.3</td>\n",
       "      <td>62.5</td>\n",
       "      <td>50.0</td>\n",
       "    </tr>\n",
       "    <tr>\n",
       "      <th>1</th>\n",
       "      <td>667.40</td>\n",
       "      <td>674</td>\n",
       "      <td>756.0</td>\n",
       "      <td>496.0</td>\n",
       "      <td>684.0</td>\n",
       "      <td>0.0</td>\n",
       "      <td>31</td>\n",
       "      <td>1</td>\n",
       "      <td>8</td>\n",
       "      <td>762</td>\n",
       "      <td>762</td>\n",
       "      <td>84.6</td>\n",
       "      <td>53.8</td>\n",
       "      <td>87.5</td>\n",
       "      <td>100.0</td>\n",
       "    </tr>\n",
       "    <tr>\n",
       "      <th>2</th>\n",
       "      <td>693.80</td>\n",
       "      <td>659</td>\n",
       "      <td>718.0</td>\n",
       "      <td>682.0</td>\n",
       "      <td>684.0</td>\n",
       "      <td>0.0</td>\n",
       "      <td>27</td>\n",
       "      <td>6</td>\n",
       "      <td>7</td>\n",
       "      <td>712</td>\n",
       "      <td>712</td>\n",
       "      <td>84.6</td>\n",
       "      <td>46.2</td>\n",
       "      <td>75.0</td>\n",
       "      <td>66.7</td>\n",
       "    </tr>\n",
       "    <tr>\n",
       "      <th>3</th>\n",
       "      <td>669.65</td>\n",
       "      <td>576</td>\n",
       "      <td>682.0</td>\n",
       "      <td>723.0</td>\n",
       "      <td>668.0</td>\n",
       "      <td>0.0</td>\n",
       "      <td>25</td>\n",
       "      <td>10</td>\n",
       "      <td>5</td>\n",
       "      <td>683</td>\n",
       "      <td>683</td>\n",
       "      <td>61.5</td>\n",
       "      <td>61.5</td>\n",
       "      <td>50.0</td>\n",
       "      <td>83.3</td>\n",
       "    </tr>\n",
       "    <tr>\n",
       "      <th>4</th>\n",
       "      <td>666.55</td>\n",
       "      <td>582</td>\n",
       "      <td>682.0</td>\n",
       "      <td>723.0</td>\n",
       "      <td>625.0</td>\n",
       "      <td>0.0</td>\n",
       "      <td>33</td>\n",
       "      <td>6</td>\n",
       "      <td>1</td>\n",
       "      <td>769</td>\n",
       "      <td>769</td>\n",
       "      <td>84.6</td>\n",
       "      <td>84.6</td>\n",
       "      <td>75.0</td>\n",
       "      <td>83.3</td>\n",
       "    </tr>\n",
       "    <tr>\n",
       "      <th>...</th>\n",
       "      <td>...</td>\n",
       "      <td>...</td>\n",
       "      <td>...</td>\n",
       "      <td>...</td>\n",
       "      <td>...</td>\n",
       "      <td>...</td>\n",
       "      <td>...</td>\n",
       "      <td>...</td>\n",
       "      <td>...</td>\n",
       "      <td>...</td>\n",
       "      <td>...</td>\n",
       "      <td>...</td>\n",
       "      <td>...</td>\n",
       "      <td>...</td>\n",
       "      <td>...</td>\n",
       "    </tr>\n",
       "    <tr>\n",
       "      <th>2176</th>\n",
       "      <td>697.55</td>\n",
       "      <td>651</td>\n",
       "      <td>774.0</td>\n",
       "      <td>599.0</td>\n",
       "      <td>693.0</td>\n",
       "      <td>0.0</td>\n",
       "      <td>30</td>\n",
       "      <td>6</td>\n",
       "      <td>4</td>\n",
       "      <td>740</td>\n",
       "      <td>740</td>\n",
       "      <td>84.6</td>\n",
       "      <td>76.9</td>\n",
       "      <td>62.5</td>\n",
       "      <td>66.7</td>\n",
       "    </tr>\n",
       "    <tr>\n",
       "      <th>2177</th>\n",
       "      <td>697.35</td>\n",
       "      <td>721</td>\n",
       "      <td>701.0</td>\n",
       "      <td>702.0</td>\n",
       "      <td>622.0</td>\n",
       "      <td>564.0</td>\n",
       "      <td>23</td>\n",
       "      <td>6</td>\n",
       "      <td>11</td>\n",
       "      <td>674</td>\n",
       "      <td>674</td>\n",
       "      <td>92.3</td>\n",
       "      <td>53.8</td>\n",
       "      <td>37.5</td>\n",
       "      <td>16.7</td>\n",
       "    </tr>\n",
       "    <tr>\n",
       "      <th>2178</th>\n",
       "      <td>663.30</td>\n",
       "      <td>682</td>\n",
       "      <td>648.0</td>\n",
       "      <td>682.0</td>\n",
       "      <td>614.0</td>\n",
       "      <td>0.0</td>\n",
       "      <td>22</td>\n",
       "      <td>8</td>\n",
       "      <td>10</td>\n",
       "      <td>660</td>\n",
       "      <td>660</td>\n",
       "      <td>46.2</td>\n",
       "      <td>46.2</td>\n",
       "      <td>62.5</td>\n",
       "      <td>83.3</td>\n",
       "    </tr>\n",
       "    <tr>\n",
       "      <th>2179</th>\n",
       "      <td>662.05</td>\n",
       "      <td>639</td>\n",
       "      <td>706.0</td>\n",
       "      <td>599.0</td>\n",
       "      <td>668.0</td>\n",
       "      <td>0.0</td>\n",
       "      <td>19</td>\n",
       "      <td>8</td>\n",
       "      <td>13</td>\n",
       "      <td>631</td>\n",
       "      <td>631</td>\n",
       "      <td>38.5</td>\n",
       "      <td>38.5</td>\n",
       "      <td>50.0</td>\n",
       "      <td>83.3</td>\n",
       "    </tr>\n",
       "    <tr>\n",
       "      <th>2180</th>\n",
       "      <td>662.60</td>\n",
       "      <td>576</td>\n",
       "      <td>774.0</td>\n",
       "      <td>558.0</td>\n",
       "      <td>596.0</td>\n",
       "      <td>0.0</td>\n",
       "      <td>28</td>\n",
       "      <td>5</td>\n",
       "      <td>7</td>\n",
       "      <td>724</td>\n",
       "      <td>724</td>\n",
       "      <td>69.2</td>\n",
       "      <td>69.2</td>\n",
       "      <td>62.5</td>\n",
       "      <td>83.3</td>\n",
       "    </tr>\n",
       "  </tbody>\n",
       "</table>\n",
       "<p>2181 rows × 15 columns</p>\n",
       "</div>"
      ],
      "text/plain": [
       "         PSU   LC   Mate   NEM      OC     OH  Buenas  Malas  Omitidas  Nota  \\\n",
       "0     669.80  710  678.0  620.0  677.0    0.0      29      6         5   731   \n",
       "1     667.40  674  756.0  496.0  684.0    0.0      31      1         8   762   \n",
       "2     693.80  659  718.0  682.0  684.0    0.0      27      6         7   712   \n",
       "3     669.65  576  682.0  723.0  668.0    0.0      25     10         5   683   \n",
       "4     666.55  582  682.0  723.0  625.0    0.0      33      6         1   769   \n",
       "...      ...  ...    ...    ...    ...    ...     ...    ...       ...   ...   \n",
       "2176  697.55  651  774.0  599.0  693.0    0.0      30      6         4   740   \n",
       "2177  697.35  721  701.0  702.0  622.0  564.0      23      6        11   674   \n",
       "2178  663.30  682  648.0  682.0  614.0    0.0      22      8        10   660   \n",
       "2179  662.05  639  706.0  599.0  668.0    0.0      19      8        13   631   \n",
       "2180  662.60  576  774.0  558.0  596.0    0.0      28      5         7   724   \n",
       "\n",
       "      Calculo   R1    R2    R3     R4   \n",
       "0         731  69.2  92.3  62.5   50.0  \n",
       "1         762  84.6  53.8  87.5  100.0  \n",
       "2         712  84.6  46.2  75.0   66.7  \n",
       "3         683  61.5  61.5  50.0   83.3  \n",
       "4         769  84.6  84.6  75.0   83.3  \n",
       "...       ...   ...   ...   ...    ...  \n",
       "2176      740  84.6  76.9  62.5   66.7  \n",
       "2177      674  92.3  53.8  37.5   16.7  \n",
       "2178      660  46.2  46.2  62.5   83.3  \n",
       "2179      631  38.5  38.5  50.0   83.3  \n",
       "2180      724  69.2  69.2  62.5   83.3  \n",
       "\n",
       "[2181 rows x 15 columns]"
      ]
     },
     "execution_count": 3,
     "metadata": {},
     "output_type": "execute_result"
    }
   ],
   "source": [
    "data"
   ]
  },
  {
   "cell_type": "code",
   "execution_count": 4,
   "metadata": {},
   "outputs": [],
   "source": [
    "#quitar espacios del header que tenian  en el txt\n",
    "data.columns=['PSU', 'LC', 'Mate', 'NEM','OC','OH', 'Buenas', 'Malas', 'Omitidas',\n",
    "       'Nota', 'Calculo', 'R1', 'R2', 'R3', 'R4']"
   ]
  },
  {
   "cell_type": "code",
   "execution_count": 5,
   "metadata": {},
   "outputs": [
    {
     "data": {
      "text/html": [
       "<div>\n",
       "<style scoped>\n",
       "    .dataframe tbody tr th:only-of-type {\n",
       "        vertical-align: middle;\n",
       "    }\n",
       "\n",
       "    .dataframe tbody tr th {\n",
       "        vertical-align: top;\n",
       "    }\n",
       "\n",
       "    .dataframe thead th {\n",
       "        text-align: right;\n",
       "    }\n",
       "</style>\n",
       "<table border=\"1\" class=\"dataframe\">\n",
       "  <thead>\n",
       "    <tr style=\"text-align: right;\">\n",
       "      <th></th>\n",
       "      <th>Mate</th>\n",
       "      <th>Calculo</th>\n",
       "    </tr>\n",
       "  </thead>\n",
       "  <tbody>\n",
       "    <tr>\n",
       "      <th>0</th>\n",
       "      <td>678.0</td>\n",
       "      <td>731</td>\n",
       "    </tr>\n",
       "    <tr>\n",
       "      <th>1</th>\n",
       "      <td>756.0</td>\n",
       "      <td>762</td>\n",
       "    </tr>\n",
       "    <tr>\n",
       "      <th>2</th>\n",
       "      <td>718.0</td>\n",
       "      <td>712</td>\n",
       "    </tr>\n",
       "    <tr>\n",
       "      <th>3</th>\n",
       "      <td>682.0</td>\n",
       "      <td>683</td>\n",
       "    </tr>\n",
       "    <tr>\n",
       "      <th>4</th>\n",
       "      <td>682.0</td>\n",
       "      <td>769</td>\n",
       "    </tr>\n",
       "    <tr>\n",
       "      <th>...</th>\n",
       "      <td>...</td>\n",
       "      <td>...</td>\n",
       "    </tr>\n",
       "    <tr>\n",
       "      <th>2176</th>\n",
       "      <td>774.0</td>\n",
       "      <td>740</td>\n",
       "    </tr>\n",
       "    <tr>\n",
       "      <th>2177</th>\n",
       "      <td>701.0</td>\n",
       "      <td>674</td>\n",
       "    </tr>\n",
       "    <tr>\n",
       "      <th>2178</th>\n",
       "      <td>648.0</td>\n",
       "      <td>660</td>\n",
       "    </tr>\n",
       "    <tr>\n",
       "      <th>2179</th>\n",
       "      <td>706.0</td>\n",
       "      <td>631</td>\n",
       "    </tr>\n",
       "    <tr>\n",
       "      <th>2180</th>\n",
       "      <td>774.0</td>\n",
       "      <td>724</td>\n",
       "    </tr>\n",
       "  </tbody>\n",
       "</table>\n",
       "<p>2119 rows × 2 columns</p>\n",
       "</div>"
      ],
      "text/plain": [
       "       Mate  Calculo\n",
       "0     678.0      731\n",
       "1     756.0      762\n",
       "2     718.0      712\n",
       "3     682.0      683\n",
       "4     682.0      769\n",
       "...     ...      ...\n",
       "2176  774.0      740\n",
       "2177  701.0      674\n",
       "2178  648.0      660\n",
       "2179  706.0      631\n",
       "2180  774.0      724\n",
       "\n",
       "[2119 rows x 2 columns]"
      ]
     },
     "execution_count": 5,
     "metadata": {},
     "output_type": "execute_result"
    }
   ],
   "source": [
    "#vamos a quitar las filas que tienen valores nulos en Mate o Calculo\n",
    "aux=data[['Mate','Calculo']]\n",
    "aux=aux.dropna()\n",
    "aux"
   ]
  },
  {
   "cell_type": "code",
   "execution_count": 6,
   "metadata": {},
   "outputs": [],
   "source": [
    "\n",
    "mate=aux['Mate']\n",
    "calc=aux['Calculo']"
   ]
  },
  {
   "cell_type": "markdown",
   "metadata": {},
   "source": [
    "##### __a)__ Haga un análisis descriptivo de ambas variables por separado."
   ]
  },
  {
   "cell_type": "code",
   "execution_count": 7,
   "metadata": {},
   "outputs": [
    {
     "data": {
      "text/plain": [
       "count    2119.000000\n",
       "mean      702.760264\n",
       "std        54.140935\n",
       "min       521.000000\n",
       "25%       664.000000\n",
       "50%       694.000000\n",
       "75%       737.000000\n",
       "max       850.000000\n",
       "Name: Mate, dtype: float64"
      ]
     },
     "execution_count": 7,
     "metadata": {},
     "output_type": "execute_result"
    }
   ],
   "source": [
    "mate.describe()"
   ]
  },
  {
   "cell_type": "code",
   "execution_count": 8,
   "metadata": {},
   "outputs": [
    {
     "data": {
      "text/plain": [
       "count    2119.000000\n",
       "mean      685.181218\n",
       "std        67.413094\n",
       "min       489.000000\n",
       "25%       638.000000\n",
       "50%       686.000000\n",
       "75%       733.000000\n",
       "max       850.000000\n",
       "Name: Calculo, dtype: float64"
      ]
     },
     "execution_count": 8,
     "metadata": {},
     "output_type": "execute_result"
    }
   ],
   "source": [
    "calc.describe()"
   ]
  },
  {
   "cell_type": "code",
   "execution_count": 9,
   "metadata": {},
   "outputs": [],
   "source": [
    "import matplotlib.pyplot as plt"
   ]
  },
  {
   "cell_type": "code",
   "execution_count": 10,
   "metadata": {},
   "outputs": [
    {
     "data": {
      "image/png": "[encoded data removed]",
      "text/plain": [
       "<Figure size 720x504 with 1 Axes>"
      ]
     },
     "metadata": {
      "needs_background": "light"
     },
     "output_type": "display_data"
    }
   ],
   "source": [
    "# Import libraries\n",
    "import matplotlib.pyplot as plt\n",
    "import numpy as np\n",
    "  \n",
    "  \n",
    "# Creating dataset\n",
    "np.random.seed(10)\n",
    "  \n",
    "fig= plt.figure(figsize =(10, 7))\n",
    "\n",
    "red = dict(markerfacecolor='r', marker='o')\n",
    "# Creating plot\n",
    "plt.boxplot(aux, flierprops=red)\n",
    "plt.title('Box plot of Mate (left) and Calculo (right)')\n",
    "# show plot\n",
    "plt.show()"
   ]
  },
  {
   "cell_type": "markdown",
   "metadata": {},
   "source": [
    "##### __b)__ ¿Es razonable asumir normalidad para cada variable? Justifique."
   ]
  },
  {
   "cell_type": "code",
   "execution_count": 11,
   "metadata": {},
   "outputs": [],
   "source": [
    "import statsmodels.api as sm\n",
    "import scipy.stats as stats\n",
    "import pylab"
   ]
  },
  {
   "cell_type": "markdown",
   "metadata": {},
   "source": [
    "##### __QQplot Mate__"
   ]
  },
  {
   "cell_type": "code",
   "execution_count": 12,
   "metadata": {},
   "outputs": [
    {
     "data": {
      "image/png": "[encoded data removed]",
      "text/plain": [
       "<Figure size 432x288 with 1 Axes>"
      ]
     },
     "metadata": {
      "needs_background": "light"
     },
     "output_type": "display_data"
    }
   ],
   "source": [
    "sm.qqplot(mate,line='45',fit=True)\n",
    "pylab.show()"
   ]
  },
  {
   "cell_type": "markdown",
   "metadata": {},
   "source": [
    "##### __QQplot Calculo__"
   ]
  },
  {
   "cell_type": "code",
   "execution_count": 13,
   "metadata": {},
   "outputs": [
    {
     "data": {
      "image/png": "[encoded data removed]",
      "text/plain": [
       "<Figure size 432x288 with 1 Axes>"
      ]
     },
     "metadata": {
      "needs_background": "light"
     },
     "output_type": "display_data"
    }
   ],
   "source": [
    "sm.qqplot(calc,line='45',fit=True)\n",
    "pylab.show()"
   ]
  },
  {
   "cell_type": "markdown",
   "metadata": {},
   "source": [
    "##### __d)__ Ajuste una distribución bivariada a los datos. Estime la media y la matriz de covarianzas."
   ]
  },
  {
   "cell_type": "code",
   "execution_count": 18,
   "metadata": {},
   "outputs": [],
   "source": [
    "xbar=aux.mean().to_numpy()"
   ]
  },
  {
   "cell_type": "code",
   "execution_count": 19,
   "metadata": {},
   "outputs": [
    {
     "data": {
      "text/plain": [
       "array([702.76026428, 685.18121756])"
      ]
     },
     "execution_count": 19,
     "metadata": {},
     "output_type": "execute_result"
    }
   ],
   "source": [
    "xbar"
   ]
  },
  {
   "cell_type": "code",
   "execution_count": 20,
   "metadata": {},
   "outputs": [],
   "source": [
    "sigma=np.cov(aux.T)"
   ]
  },
  {
   "cell_type": "code",
   "execution_count": 21,
   "metadata": {},
   "outputs": [
    {
     "data": {
      "text/plain": [
       "array([[2931.24089436, 2561.4726433 ],\n",
       "       [2561.4726433 , 4544.52521835]])"
      ]
     },
     "execution_count": 21,
     "metadata": {},
     "output_type": "execute_result"
    }
   ],
   "source": [
    "sigma"
   ]
  },
  {
   "cell_type": "markdown",
   "metadata": {},
   "source": [
    "$$\\hat{\\mu}=\\begin{pmatrix}702.76 & 685.18\\end{pmatrix}^T \\qquad \\hat{\\Sigma}=\\begin{pmatrix}2931.24 & 2561.47 \\\\ 2561.47 & 4544.53\\end{pmatrix}$$"
   ]
  },
  {
   "cell_type": "markdown",
   "metadata": {},
   "source": [
    "##### __e)__ Haga inferencia para el coeficiente de correlación entre las variables. Comente. ¿Existe correlación significativa entre la prueba de diagnóstico aplicada en la USM y la parte matemática de la PSU? Proponga un modelo para explicar una variable como función de la otra.\n"
   ]
  },
  {
   "cell_type": "code",
   "execution_count": 29,
   "metadata": {},
   "outputs": [
    {
     "data": {
      "image/png": "[encoded data removed]",
      "text/plain": [
       "<Figure size 432x288 with 2 Axes>"
      ]
     },
     "metadata": {
      "needs_background": "light"
     },
     "output_type": "display_data"
    }
   ],
   "source": [
    "import seaborn as sns\n",
    "sns.heatmap(aux.corr(),annot=True);"
   ]
  },
  {
   "cell_type": "markdown",
   "metadata": {},
   "source": [
    "##### dado que la correlación es lo suficientemente cercana a 1 asumiremos que hay una relación lineal positiva, realizando el ajuste y considerando como variabre regreso 'Mate' se tiene que"
   ]
  },
  {
   "cell_type": "code",
   "execution_count": 54,
   "metadata": {},
   "outputs": [
    {
     "data": {
      "text/plain": [
       "array([ 0.87385266, 71.07229351])"
      ]
     },
     "execution_count": 54,
     "metadata": {},
     "output_type": "execute_result"
    }
   ],
   "source": [
    "model=np.polyfit(mate,calc,1)\n",
    "model"
   ]
  },
  {
   "cell_type": "markdown",
   "metadata": {},
   "source": [
    "$$calculo=0.8739\\cdot mate +71.07$$"
   ]
  },
  {
   "cell_type": "code",
   "execution_count": 58,
   "metadata": {},
   "outputs": [
    {
     "data": {
      "image/png": "[encoded data removed]",
      "text/plain": [
       "<Figure size 432x288 with 1 Axes>"
      ]
     },
     "metadata": {
      "needs_background": "light"
     },
     "output_type": "display_data"
    }
   ],
   "source": [
    "plt.scatter(mate,calc,alpha=0.1,c='g')\n",
    "plt.plot(np.array([500,850]),np.array([500,850])*model[0]+model[1],c='r')\n",
    "plt.show()"
   ]
  },
  {
   "cell_type": "markdown",
   "metadata": {},
   "source": [
    "##### __f__  ¿Existen Outiers multivariados en la muestra? Justifique."
   ]
  },
  {
   "cell_type": "code",
   "execution_count": 15,
   "metadata": {},
   "outputs": [],
   "source": [
    "covariance  = np.cov(df , rowvar=False)\n",
    "covariance_pm1 = np.linalg.matrix_power(covariance, -1)\n",
    "centerpoint = np.mean(df , axis=0)"
   ]
  },
  {
   "cell_type": "code",
   "execution_count": 14,
   "metadata": {},
   "outputs": [],
   "source": [
    "import pandas as pd\n",
    "import numpy as np\n",
    "from scipy.stats import chi2\n",
    "from matplotlib import patches\n",
    "import matplotlib.pyplot as plt\n",
    "\n",
    "df = aux\n",
    "df = df.to_numpy()"
   ]
  },
  {
   "cell_type": "code",
   "execution_count": 16,
   "metadata": {},
   "outputs": [],
   "source": [
    "distances = []\n",
    "for i, val in enumerate(df):\n",
    "      p1 = val\n",
    "      p2 = centerpoint\n",
    "      distance = (p1-p2).T.dot(covariance_pm1).dot(p1-p2)\n",
    "      distances.append(distance)\n",
    "distances = np.array(distances)\n",
    "cutoff = chi2.ppf(0.95, df.shape[1])\n",
    "outlierIndexes = np.where(distances > cutoff )\n"
   ]
  },
  {
   "cell_type": "code",
   "execution_count": 17,
   "metadata": {},
   "outputs": [
    {
     "data": {
      "image/png": "[encoded data removed]",
      "text/plain": [
       "<Figure size 432x288 with 1 Axes>"
      ]
     },
     "metadata": {
      "needs_background": "light"
     },
     "output_type": "display_data"
    }
   ],
   "source": [
    "pearson = covariance[0, 1]/np.sqrt(covariance[0, 0] * covariance[1, 1])\n",
    "ell_radius_x = np.sqrt(1 + pearson)\n",
    "ell_radius_y = np.sqrt(1 - pearson)\n",
    "lambda_, v = np.linalg.eig(covariance)\n",
    "lambda_ = np.sqrt(lambda_)\n",
    "\n",
    "ellipse = patches.Ellipse(xy=(centerpoint[0], centerpoint[1]),\n",
    "                  width=lambda_[0]*np.sqrt(cutoff)*2, height=lambda_[1]*np.sqrt(cutoff)*2,\n",
    "                  angle=np.rad2deg(np.arccos(v[0, 0])), edgecolor='#fab1a0')\n",
    "ellipse.set_facecolor('m')\n",
    "ellipse.set_alpha(0.4)\n",
    "fig = plt.figure()\n",
    "ax = plt.subplot()\n",
    "ax.add_artist(ellipse)\n",
    "plt.scatter(df[: , 0], df[ : , 1])\n",
    "plt.show()"
   ]
  },
  {
   "cell_type": "markdown",
   "metadata": {},
   "source": [
    "__los otliers multivariados son los que estan afuera de la elipse la cual representa la distancia de mahalanobis__"
   ]
  },
  {
   "cell_type": "code",
   "execution_count": 61,
   "metadata": {},
   "outputs": [
    {
     "name": "stdout",
     "output_type": "stream",
     "text": [
      "los outliers son \n",
      " (array([  77,  136,  137,  266,  288,  292,  295,  319,  387,  401,  479,\n",
      "        480,  490,  492,  496,  497,  507,  551,  552,  620,  628,  635,\n",
      "        670,  730,  743,  835,  842,  870,  871,  885,  921,  931,  997,\n",
      "       1029, 1042, 1048, 1060, 1066, 1074, 1076, 1103, 1114, 1117, 1123,\n",
      "       1141, 1152, 1159, 1176, 1177, 1183, 1190, 1203, 1215, 1216, 1224,\n",
      "       1227, 1264, 1327, 1360, 1395, 1412, 1416, 1432, 1436, 1462, 1463,\n",
      "       1476, 1489, 1545, 1583, 1584, 1594, 1604, 1633, 1705, 1714, 1750,\n",
      "       1757, 1784, 1791, 1799, 1833, 1837, 1840, 1852, 1888, 1893, 1912,\n",
      "       1925, 1977, 1998, 2025, 2042, 2076, 2095, 2096, 2097, 2100, 2105]),)\n"
     ]
    }
   ],
   "source": [
    "print('los outliers son \\n',outlierIndexes)"
   ]
  },
  {
   "cell_type": "markdown",
   "metadata": {},
   "source": [
    "##### __g)__ El instrumento consiste en 40 preguntas clasificadas en 4 categorías. Estas categorías tienen relación con los 4 cursos remediales que se ofrece a aquellos estudiantes que obtienen un puntaje menor a 620 puntos. El porcentaje de respuestas acertadas en cada categoría se encuentra en la base de datos con los nombres R1, R2, R3 y R4. ¿Es razonable asumir una distribución normal multivariada para modelar las variables R1, R2, R3 y R4?"
   ]
  },
  {
   "cell_type": "code",
   "execution_count": 26,
   "metadata": {},
   "outputs": [],
   "source": [
    "categorias=data[['R1','R2','R3','R4']].dropna()"
   ]
  },
  {
   "cell_type": "code",
   "execution_count": 27,
   "metadata": {},
   "outputs": [
    {
     "data": {
      "text/html": [
       "<div>\n",
       "<style scoped>\n",
       "    .dataframe tbody tr th:only-of-type {\n",
       "        vertical-align: middle;\n",
       "    }\n",
       "\n",
       "    .dataframe tbody tr th {\n",
       "        vertical-align: top;\n",
       "    }\n",
       "\n",
       "    .dataframe thead th {\n",
       "        text-align: right;\n",
       "    }\n",
       "</style>\n",
       "<table border=\"1\" class=\"dataframe\">\n",
       "  <thead>\n",
       "    <tr style=\"text-align: right;\">\n",
       "      <th></th>\n",
       "      <th>R1</th>\n",
       "      <th>R2</th>\n",
       "      <th>R3</th>\n",
       "      <th>R4</th>\n",
       "    </tr>\n",
       "  </thead>\n",
       "  <tbody>\n",
       "    <tr>\n",
       "      <th>0</th>\n",
       "      <td>69.2</td>\n",
       "      <td>92.3</td>\n",
       "      <td>62.5</td>\n",
       "      <td>50.0</td>\n",
       "    </tr>\n",
       "    <tr>\n",
       "      <th>1</th>\n",
       "      <td>84.6</td>\n",
       "      <td>53.8</td>\n",
       "      <td>87.5</td>\n",
       "      <td>100.0</td>\n",
       "    </tr>\n",
       "    <tr>\n",
       "      <th>2</th>\n",
       "      <td>84.6</td>\n",
       "      <td>46.2</td>\n",
       "      <td>75.0</td>\n",
       "      <td>66.7</td>\n",
       "    </tr>\n",
       "    <tr>\n",
       "      <th>3</th>\n",
       "      <td>61.5</td>\n",
       "      <td>61.5</td>\n",
       "      <td>50.0</td>\n",
       "      <td>83.3</td>\n",
       "    </tr>\n",
       "    <tr>\n",
       "      <th>4</th>\n",
       "      <td>84.6</td>\n",
       "      <td>84.6</td>\n",
       "      <td>75.0</td>\n",
       "      <td>83.3</td>\n",
       "    </tr>\n",
       "    <tr>\n",
       "      <th>...</th>\n",
       "      <td>...</td>\n",
       "      <td>...</td>\n",
       "      <td>...</td>\n",
       "      <td>...</td>\n",
       "    </tr>\n",
       "    <tr>\n",
       "      <th>2176</th>\n",
       "      <td>84.6</td>\n",
       "      <td>76.9</td>\n",
       "      <td>62.5</td>\n",
       "      <td>66.7</td>\n",
       "    </tr>\n",
       "    <tr>\n",
       "      <th>2177</th>\n",
       "      <td>92.3</td>\n",
       "      <td>53.8</td>\n",
       "      <td>37.5</td>\n",
       "      <td>16.7</td>\n",
       "    </tr>\n",
       "    <tr>\n",
       "      <th>2178</th>\n",
       "      <td>46.2</td>\n",
       "      <td>46.2</td>\n",
       "      <td>62.5</td>\n",
       "      <td>83.3</td>\n",
       "    </tr>\n",
       "    <tr>\n",
       "      <th>2179</th>\n",
       "      <td>38.5</td>\n",
       "      <td>38.5</td>\n",
       "      <td>50.0</td>\n",
       "      <td>83.3</td>\n",
       "    </tr>\n",
       "    <tr>\n",
       "      <th>2180</th>\n",
       "      <td>69.2</td>\n",
       "      <td>69.2</td>\n",
       "      <td>62.5</td>\n",
       "      <td>83.3</td>\n",
       "    </tr>\n",
       "  </tbody>\n",
       "</table>\n",
       "<p>2180 rows × 4 columns</p>\n",
       "</div>"
      ],
      "text/plain": [
       "        R1    R2    R3     R4\n",
       "0     69.2  92.3  62.5   50.0\n",
       "1     84.6  53.8  87.5  100.0\n",
       "2     84.6  46.2  75.0   66.7\n",
       "3     61.5  61.5  50.0   83.3\n",
       "4     84.6  84.6  75.0   83.3\n",
       "...    ...   ...   ...    ...\n",
       "2176  84.6  76.9  62.5   66.7\n",
       "2177  92.3  53.8  37.5   16.7\n",
       "2178  46.2  46.2  62.5   83.3\n",
       "2179  38.5  38.5  50.0   83.3\n",
       "2180  69.2  69.2  62.5   83.3\n",
       "\n",
       "[2180 rows x 4 columns]"
      ]
     },
     "execution_count": 27,
     "metadata": {},
     "output_type": "execute_result"
    }
   ],
   "source": [
    "categorias"
   ]
  }
 ],
 "metadata": {
  "kernelspec": {
   "display_name": "Python 3",
   "language": "python",
   "name": "python3"
  },
  "language_info": {
   "codemirror_mode": {
    "name": "ipython",
    "version": 3
   },
   "file_extension": ".py",
   "mimetype": "text/x-python",
   "name": "python",
   "nbconvert_exporter": "python",
   "pygments_lexer": "ipython3",
   "version": "3.7.9"
  }
 },
 "nbformat": 4,
 "nbformat_minor": 4
}
